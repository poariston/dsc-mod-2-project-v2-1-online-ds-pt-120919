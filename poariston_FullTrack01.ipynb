{
 "cells": [
  {
   "cell_type": "markdown",
   "metadata": {},
   "source": [
    "## Final Project Submission\n",
    "\n",
    "Please fill out:\n",
    "* Student name: \n",
    "* Student pace: self paced / part time / full time\n",
    "* Scheduled project review date/time: \n",
    "* Instructor name: \n",
    "* Blog post URL:\n"
   ]
  },
  {
   "cell_type": "markdown",
   "metadata": {},
   "source": [
    "# Phase 2. Beyond Fast Track\n",
    "Goal of Phase 2 is to get a final model addressing all issues and inaccuracies encountered during Phase 1(Fast Track)\n",
    "\n",
    "## Fast Track Conclusions\n",
    "R squared = 66%. The linear model explains 66% of the variations in the house price. \n",
    "The model tends to under predict (predicted value < actual value), especially on the high end of the price range \n",
    "Training and test performances seem close based on visualization, but Mean Square Error (MSE) for test is 22% higher than for the training set. \n",
    "Presence of outliers is evidenced by the prediction errors visualization. They are likely to be responsible for a good part of the inaccuracy of the model. Needs to be addressed in forthcoming work.\n",
    "\n",
    "## Workflow:\n",
    "1. address non-numerical data\n",
    "2. Address the issue due to the presence of outliers  \n",
    "3. Address potential collinearity between features  \n",
    "4. Features selection step 1 \n",
    "5. Address the issue of missing values  \n",
    "6. Address categorical data  \n",
    "7. Features selection step 2  \n",
    "8. Features transformation and scaling  \n",
    "9. test/train split or K fold cross validation\n",
    "10. QC and Check assumptions: Linearity/ Model Residuals are normally distrib/ Homoscedasticity\n"
   ]
  },
  {
   "cell_type": "markdown",
   "metadata": {},
   "source": [
    "## Importing needed modules, libraries ..."
   ]
  },
  {
   "cell_type": "code",
   "execution_count": 2,
   "metadata": {},
   "outputs": [],
   "source": [
    "import numpy as np\n",
    "import pandas as pd\n",
    "import matplotlib.pyplot as plt\n",
    "import statsmodels.api as sm\n",
    "from sklearn.linear_model import LinearRegression \n",
    "from sklearn.model_selection import train_test_split\n",
    "from sklearn.metrics import mean_squared_error\n",
    "import seaborn as sns"
   ]
  },
  {
   "cell_type": "markdown",
   "metadata": {},
   "source": [
    "## Data import"
   ]
  },
  {
   "cell_type": "code",
   "execution_count": 3,
   "metadata": {},
   "outputs": [],
   "source": [
    "df = pd.read_csv('kc_house_data.csv')"
   ]
  },
  {
   "cell_type": "code",
   "execution_count": 4,
   "metadata": {},
   "outputs": [
    {
     "data": {
      "text/plain": [
       "(21597, 21)"
      ]
     },
     "execution_count": 4,
     "metadata": {},
     "output_type": "execute_result"
    }
   ],
   "source": [
    "# how many data points(rows)? How many variables (columns)?\n",
    "df.shape"
   ]
  },
  {
   "cell_type": "markdown",
   "metadata": {},
   "source": [
    "# Looking for duplicated entries"
   ]
  },
  {
   "cell_type": "code",
   "execution_count": 5,
   "metadata": {},
   "outputs": [
    {
     "data": {
      "text/plain": [
       "False    21597\n",
       "dtype: int64"
      ]
     },
     "execution_count": 5,
     "metadata": {},
     "output_type": "execute_result"
    }
   ],
   "source": [
    "#Flag duplicates with True (if any)\n",
    "df.duplicated().value_counts()"
   ]
  },
  {
   "cell_type": "code",
   "execution_count": 6,
   "metadata": {},
   "outputs": [],
   "source": [
    "#No duplicates in the data"
   ]
  },
  {
   "cell_type": "markdown",
   "metadata": {},
   "source": [
    "## Reminder  \n",
    "Target variable (i.e. independent variable) = 'price'  \n",
    "21597 raw data points\n",
    "20 potential descriptors"
   ]
  },
  {
   "cell_type": "markdown",
   "metadata": {},
   "source": [
    "# 1. Looking for non-numerical data "
   ]
  },
  {
   "cell_type": "code",
   "execution_count": 7,
   "metadata": {},
   "outputs": [
    {
     "name": "stdout",
     "output_type": "stream",
     "text": [
      "<class 'pandas.core.frame.DataFrame'>\n",
      "RangeIndex: 21597 entries, 0 to 21596\n",
      "Data columns (total 21 columns):\n",
      "id               21597 non-null int64\n",
      "date             21597 non-null object\n",
      "price            21597 non-null float64\n",
      "bedrooms         21597 non-null int64\n",
      "bathrooms        21597 non-null float64\n",
      "sqft_living      21597 non-null int64\n",
      "sqft_lot         21597 non-null int64\n",
      "floors           21597 non-null float64\n",
      "waterfront       19221 non-null float64\n",
      "view             21534 non-null float64\n",
      "condition        21597 non-null int64\n",
      "grade            21597 non-null int64\n",
      "sqft_above       21597 non-null int64\n",
      "sqft_basement    21597 non-null object\n",
      "yr_built         21597 non-null int64\n",
      "yr_renovated     17755 non-null float64\n",
      "zipcode          21597 non-null int64\n",
      "lat              21597 non-null float64\n",
      "long             21597 non-null float64\n",
      "sqft_living15    21597 non-null int64\n",
      "sqft_lot15       21597 non-null int64\n",
      "dtypes: float64(8), int64(11), object(2)\n",
      "memory usage: 3.5+ MB\n"
     ]
    }
   ],
   "source": [
    "df.info()"
   ]
  },
  {
   "cell_type": "code",
   "execution_count": 8,
   "metadata": {},
   "outputs": [
    {
     "data": {
      "text/plain": [
       "str"
      ]
     },
     "execution_count": 8,
     "metadata": {},
     "output_type": "execute_result"
    }
   ],
   "source": [
    "# columns 'date' and 'sqft_basement' are non numerical\n",
    "# what is the data type of sqft_basement?\n",
    "type(df['sqft_basement'][0])"
   ]
  },
  {
   "cell_type": "code",
   "execution_count": 9,
   "metadata": {},
   "outputs": [
    {
     "data": {
      "text/plain": [
       "array(['0.0', '10.0', '100.0', '1000.0', '1008.0', '1010.0', '1020.0',\n",
       "       '1024.0', '1030.0', '1040.0', '1050.0', '1060.0', '1070.0',\n",
       "       '1080.0', '1090.0', '110.0', '1100.0', '1110.0', '1120.0',\n",
       "       '1130.0', '1135.0', '1140.0', '1150.0', '1160.0', '1170.0',\n",
       "       '1180.0', '1190.0', '120.0', '1200.0', '1210.0', '1220.0',\n",
       "       '1230.0', '1240.0', '1245.0', '1248.0', '1250.0', '1260.0',\n",
       "       '1270.0', '1275.0', '1280.0', '1281.0', '1284.0', '1290.0',\n",
       "       '130.0', '1300.0', '1310.0', '1320.0', '1330.0', '1340.0',\n",
       "       '1350.0', '1360.0', '1370.0', '1380.0', '1390.0', '140.0',\n",
       "       '1400.0', '1410.0', '1420.0', '143.0', '1430.0', '1440.0', '145.0',\n",
       "       '1450.0', '1460.0', '1470.0', '1480.0', '1481.0', '1490.0',\n",
       "       '150.0', '1500.0', '1510.0', '1520.0', '1525.0', '1530.0',\n",
       "       '1540.0', '1548.0', '1550.0', '1560.0', '1570.0', '1580.0',\n",
       "       '1590.0', '160.0', '1600.0', '1610.0', '1620.0', '1630.0',\n",
       "       '1640.0', '1650.0', '1660.0', '1670.0', '1680.0', '1690.0',\n",
       "       '170.0', '1700.0', '1710.0', '172.0', '1720.0', '1730.0', '1740.0',\n",
       "       '1750.0', '176.0', '1760.0', '1770.0', '1780.0', '1790.0',\n",
       "       '1798.0', '180.0', '1800.0', '1810.0', '1816.0', '1820.0',\n",
       "       '1830.0', '1840.0', '1850.0', '1852.0', '1860.0', '1870.0',\n",
       "       '1880.0', '1890.0', '190.0', '1900.0', '1910.0', '1913.0',\n",
       "       '1920.0', '1930.0', '1940.0', '1950.0', '1960.0', '1990.0', '20.0',\n",
       "       '200.0', '2000.0', '2010.0', '2020.0', '2030.0', '2040.0',\n",
       "       '2050.0', '2060.0', '207.0', '2070.0', '2080.0', '2090.0', '210.0',\n",
       "       '2100.0', '2110.0', '2120.0', '2130.0', '2150.0', '2160.0',\n",
       "       '2170.0', '2180.0', '2190.0', '2196.0', '220.0', '2200.0',\n",
       "       '2220.0', '2240.0', '225.0', '2250.0', '230.0', '2300.0', '2310.0',\n",
       "       '2330.0', '235.0', '2350.0', '2360.0', '2390.0', '240.0', '2400.0',\n",
       "       '243.0', '248.0', '2490.0', '250.0', '2500.0', '2550.0', '2570.0',\n",
       "       '2580.0', '260.0', '2600.0', '2610.0', '265.0', '266.0', '270.0',\n",
       "       '2720.0', '2730.0', '274.0', '276.0', '280.0', '2810.0', '283.0',\n",
       "       '2850.0', '290.0', '295.0', '300.0', '3000.0', '310.0', '320.0',\n",
       "       '3260.0', '330.0', '340.0', '3480.0', '350.0', '3500.0', '360.0',\n",
       "       '370.0', '374.0', '380.0', '390.0', '40.0', '400.0', '410.0',\n",
       "       '4130.0', '414.0', '415.0', '417.0', '420.0', '430.0', '435.0',\n",
       "       '440.0', '450.0', '460.0', '470.0', '475.0', '480.0', '4820.0',\n",
       "       '490.0', '50.0', '500.0', '506.0', '508.0', '510.0', '515.0',\n",
       "       '516.0', '518.0', '520.0', '530.0', '540.0', '550.0', '556.0',\n",
       "       '560.0', '570.0', '580.0', '588.0', '590.0', '60.0', '600.0',\n",
       "       '602.0', '610.0', '620.0', '630.0', '640.0', '65.0', '650.0',\n",
       "       '652.0', '660.0', '666.0', '670.0', '680.0', '690.0', '70.0',\n",
       "       '700.0', '704.0', '710.0', '720.0', '730.0', '740.0', '750.0',\n",
       "       '760.0', '768.0', '770.0', '780.0', '784.0', '790.0', '792.0',\n",
       "       '80.0', '800.0', '810.0', '820.0', '830.0', '840.0', '850.0',\n",
       "       '860.0', '861.0', '862.0', '870.0', '875.0', '880.0', '890.0',\n",
       "       '90.0', '900.0', '906.0', '910.0', '915.0', '920.0', '930.0',\n",
       "       '935.0', '940.0', '946.0', '950.0', '960.0', '970.0', '980.0',\n",
       "       '990.0', '?'], dtype=object)"
      ]
     },
     "execution_count": 9,
     "metadata": {},
     "output_type": "execute_result"
    }
   ],
   "source": [
    "# checking unique values of column sqft_basement\n",
    "np.sort(df['sqft_basement'].unique())"
   ]
  },
  {
   "cell_type": "code",
   "execution_count": 10,
   "metadata": {},
   "outputs": [
    {
     "data": {
      "text/plain": [
       "0.0       12826\n",
       "?           454\n",
       "600.0       217\n",
       "500.0       209\n",
       "700.0       208\n",
       "          ...  \n",
       "2400.0        1\n",
       "2720.0        1\n",
       "243.0         1\n",
       "3480.0        1\n",
       "652.0         1\n",
       "Name: sqft_basement, Length: 304, dtype: int64"
      ]
     },
     "execution_count": 10,
     "metadata": {},
     "output_type": "execute_result"
    }
   ],
   "source": [
    "# check number of records with ? as sqft_basement\n",
    "df['sqft_basement'].value_counts()"
   ]
  },
  {
   "cell_type": "code",
   "execution_count": 11,
   "metadata": {},
   "outputs": [
    {
     "name": "stdout",
     "output_type": "stream",
     "text": [
      "% of '?' in column sqft_basement :  2.1021438162707784\n",
      "# of '?' in column sqft_basement :  454\n"
     ]
    }
   ],
   "source": [
    "# column sqft_basement has a question mark !!\n",
    "# How many '?' in sqft_basement column? in %\n",
    "print( \"% of '?' in column sqft_basement : \",100* len(df[df['sqft_basement']=='?'])/len(df) ) \n",
    "print( \"# of '?' in column sqft_basement : \", len(df[df['sqft_basement']=='?']) )"
   ]
  },
  {
   "cell_type": "markdown",
   "metadata": {},
   "source": [
    "### Rationale:\n",
    "2% of the records don't have basement square footage info.\n",
    "Should we even worry about sqft_basement?\n",
    "I think it is an important predictor of the price of the house, so I would like to keep it and use it as a predictor.\n",
    "As I believe it is an important predictor, I don't want to replace the \"?\" by a made-up value.\n",
    "So my plan is to check the correlation between sqft_basement and price to confirm it is an important factor in the price and then (if confirmed) remove the 2% of records for which we don't know whether there is a basement or no.\n"
   ]
  },
  {
   "cell_type": "code",
   "execution_count": 12,
   "metadata": {},
   "outputs": [
    {
     "data": {
      "text/plain": [
       "id                 int64\n",
       "sqft_basement    float64\n",
       "price            float64\n",
       "sqft_living        int64\n",
       "dtype: object"
      ]
     },
     "execution_count": 12,
     "metadata": {},
     "output_type": "execute_result"
    }
   ],
   "source": [
    "# check the correlation between sqft_basement and price\n",
    "# select only these 2 variables and sqft_living and id\n",
    "# Why sqft_living ( footage of the home)? Because Intuitively, it should be one of the main predictor of the house price.\n",
    "# Why id ( unique identifier)? Because Intuitively, it should NOT be correlated to the house price.\n",
    "# these correlation will serve us as reference\n",
    "df_basement_price = df[['id', 'sqft_basement','price','sqft_living']]\n",
    "\n",
    "# remove all records with ? in sqft_basement\n",
    "df_basement_price=df_basement_price.loc[ df_basement_price['sqft_basement'] != '?' ]\n",
    "\n",
    "# change type of sqft_basement to allow correlation process\n",
    "df_basement_price['sqft_basement']=df_basement_price['sqft_basement'].astype('float64')\n",
    "df_basement_price.dtypes"
   ]
  },
  {
   "cell_type": "code",
   "execution_count": 13,
   "metadata": {},
   "outputs": [
    {
     "data": {
      "text/html": [
       "<div>\n",
       "<style scoped>\n",
       "    .dataframe tbody tr th:only-of-type {\n",
       "        vertical-align: middle;\n",
       "    }\n",
       "\n",
       "    .dataframe tbody tr th {\n",
       "        vertical-align: top;\n",
       "    }\n",
       "\n",
       "    .dataframe thead th {\n",
       "        text-align: right;\n",
       "    }\n",
       "</style>\n",
       "<table border=\"1\" class=\"dataframe\">\n",
       "  <thead>\n",
       "    <tr style=\"text-align: right;\">\n",
       "      <th></th>\n",
       "      <th>id</th>\n",
       "      <th>sqft_basement</th>\n",
       "      <th>price</th>\n",
       "      <th>sqft_living</th>\n",
       "    </tr>\n",
       "  </thead>\n",
       "  <tbody>\n",
       "    <tr>\n",
       "      <th>id</th>\n",
       "      <td>1.000000</td>\n",
       "      <td>-0.004548</td>\n",
       "      <td>-0.015796</td>\n",
       "      <td>-0.011721</td>\n",
       "    </tr>\n",
       "    <tr>\n",
       "      <th>sqft_basement</th>\n",
       "      <td>-0.004548</td>\n",
       "      <td>1.000000</td>\n",
       "      <td>0.325008</td>\n",
       "      <td>0.434576</td>\n",
       "    </tr>\n",
       "    <tr>\n",
       "      <th>price</th>\n",
       "      <td>-0.015796</td>\n",
       "      <td>0.325008</td>\n",
       "      <td>1.000000</td>\n",
       "      <td>0.702328</td>\n",
       "    </tr>\n",
       "    <tr>\n",
       "      <th>sqft_living</th>\n",
       "      <td>-0.011721</td>\n",
       "      <td>0.434576</td>\n",
       "      <td>0.702328</td>\n",
       "      <td>1.000000</td>\n",
       "    </tr>\n",
       "  </tbody>\n",
       "</table>\n",
       "</div>"
      ],
      "text/plain": [
       "                     id  sqft_basement     price  sqft_living\n",
       "id             1.000000      -0.004548 -0.015796    -0.011721\n",
       "sqft_basement -0.004548       1.000000  0.325008     0.434576\n",
       "price         -0.015796       0.325008  1.000000     0.702328\n",
       "sqft_living   -0.011721       0.434576  0.702328     1.000000"
      ]
     },
     "execution_count": 13,
     "metadata": {},
     "output_type": "execute_result"
    }
   ],
   "source": [
    "df_basement_price.corr()"
   ]
  },
  {
   "cell_type": "markdown",
   "metadata": {},
   "source": [
    "## Intermediary Conclusion\n",
    "#### The correlation between price and sqft_living is 70%.\n",
    "#### The correlation between price and sqft_basement  is 32.5%\n",
    "#### The correlation between price and id is 1.6%\n",
    "#### This confirms that sqft_basement is a significant predictor of the price, but not a prevalent one.\n",
    "#### Therefore, I would rather remove the 2% of data with a \"?\" rather than make up information for that predictor.\n"
   ]
  },
  {
   "cell_type": "code",
   "execution_count": 14,
   "metadata": {},
   "outputs": [
    {
     "data": {
      "text/plain": [
       "id                 int64\n",
       "date              object\n",
       "price            float64\n",
       "bedrooms           int64\n",
       "bathrooms        float64\n",
       "sqft_living        int64\n",
       "sqft_lot           int64\n",
       "floors           float64\n",
       "waterfront       float64\n",
       "view             float64\n",
       "condition          int64\n",
       "grade              int64\n",
       "sqft_above         int64\n",
       "sqft_basement    float64\n",
       "yr_built           int64\n",
       "yr_renovated     float64\n",
       "zipcode            int64\n",
       "lat              float64\n",
       "long             float64\n",
       "sqft_living15      int64\n",
       "sqft_lot15         int64\n",
       "dtype: object"
      ]
     },
     "execution_count": 14,
     "metadata": {},
     "output_type": "execute_result"
    }
   ],
   "source": [
    "# removing sqft_basement = ? from data\n",
    "# remove all records with ? in sqft_basement\n",
    "df=df.loc[ df['sqft_basement'] != '?' ]\n",
    "\n",
    "# change type of sqft_basement to float64\n",
    "df['sqft_basement']=df['sqft_basement'].astype('float64')\n",
    "df.dtypes"
   ]
  },
  {
   "cell_type": "code",
   "execution_count": 15,
   "metadata": {},
   "outputs": [
    {
     "name": "stdout",
     "output_type": "stream",
     "text": [
      "10/13/2014\n"
     ]
    },
    {
     "data": {
      "text/plain": [
       "str"
      ]
     },
     "execution_count": 15,
     "metadata": {},
     "output_type": "execute_result"
    }
   ],
   "source": [
    "# check date column. type?\n",
    "print(df.date[0])\n",
    "type(df.date[0])\n"
   ]
  },
  {
   "cell_type": "code",
   "execution_count": 16,
   "metadata": {},
   "outputs": [],
   "source": [
    "# change date type to datetime\n",
    "# then, keep only the year from 'date' (date it was sold) and make it an integer\n",
    "df['date']=pd.to_datetime(df['date']).dt.year.astype('int')\n"
   ]
  },
  {
   "cell_type": "code",
   "execution_count": 17,
   "metadata": {},
   "outputs": [
    {
     "data": {
      "text/plain": [
       "0    2014\n",
       "1    2014\n",
       "2    2015\n",
       "3    2014\n",
       "4    2015\n",
       "Name: date, dtype: int32"
      ]
     },
     "execution_count": 17,
     "metadata": {},
     "output_type": "execute_result"
    }
   ],
   "source": [
    "# checking  date type\n",
    "df['date'][0:5]"
   ]
  },
  {
   "cell_type": "markdown",
   "metadata": {},
   "source": [
    "## Looking for NaN values\n"
   ]
  },
  {
   "cell_type": "code",
   "execution_count": 18,
   "metadata": {},
   "outputs": [
    {
     "name": "stdout",
     "output_type": "stream",
     "text": [
      "<class 'pandas.core.frame.DataFrame'>\n",
      "Int64Index: 21143 entries, 0 to 21596\n",
      "Data columns (total 21 columns):\n",
      "id               21143 non-null int64\n",
      "date             21143 non-null int32\n",
      "price            21143 non-null float64\n",
      "bedrooms         21143 non-null int64\n",
      "bathrooms        21143 non-null float64\n",
      "sqft_living      21143 non-null int64\n",
      "sqft_lot         21143 non-null int64\n",
      "floors           21143 non-null float64\n",
      "waterfront       18804 non-null float64\n",
      "view             21082 non-null float64\n",
      "condition        21143 non-null int64\n",
      "grade            21143 non-null int64\n",
      "sqft_above       21143 non-null int64\n",
      "sqft_basement    21143 non-null float64\n",
      "yr_built         21143 non-null int64\n",
      "yr_renovated     17389 non-null float64\n",
      "zipcode          21143 non-null int64\n",
      "lat              21143 non-null float64\n",
      "long             21143 non-null float64\n",
      "sqft_living15    21143 non-null int64\n",
      "sqft_lot15       21143 non-null int64\n",
      "dtypes: float64(9), int32(1), int64(11)\n",
      "memory usage: 4.1 MB\n"
     ]
    }
   ],
   "source": [
    "df.info()"
   ]
  },
  {
   "cell_type": "markdown",
   "metadata": {},
   "source": [
    "### NaN values issues with waterfront, view, yr_renovated"
   ]
  },
  {
   "cell_type": "code",
   "execution_count": 19,
   "metadata": {},
   "outputs": [
    {
     "name": "stdout",
     "output_type": "stream",
     "text": [
      "values in waterfront :  [nan  0.  1.]\n",
      "% of NaN in waterfront :  11.062763089438585\n",
      "% of 0 in waterfront :  88.26561982689306\n",
      "% of 1 in waterfront :  0.6716170836683536\n"
     ]
    }
   ],
   "source": [
    "# Let's check waterfront\n",
    "print( 'values in waterfront : ', df['waterfront'].unique() )\n",
    "print(  '% of NaN in waterfront : ', 100*(len(df) - np.sum(df['waterfront'].value_counts()))  / len(df) )\n",
    "print( '% of 0 in waterfront : ', 100*(np.sum(df['waterfront'].value_counts()[0]))  / len(df) )\n",
    "print( '% of 1 in waterfront : ',100*(np.sum(df['waterfront'].value_counts()[1]))  / len(df) )"
   ]
  },
  {
   "cell_type": "code",
   "execution_count": 20,
   "metadata": {},
   "outputs": [],
   "source": [
    "# 11 % of the values in waterfront are Nan\n",
    "# as the majority of houses are not waterfrnt( 88% of zeroes), we will replace NaN with zero\n",
    "df['waterfront'] = df['waterfront'].fillna(0)"
   ]
  },
  {
   "cell_type": "code",
   "execution_count": 21,
   "metadata": {},
   "outputs": [
    {
     "name": "stdout",
     "output_type": "stream",
     "text": [
      "values in waterfront :  [0. 1.]\n",
      "% of NaN in waterfront :  0.0\n",
      "% of 0 in waterfront :  99.32838291633165\n",
      "% of 1 in waterfront :  0.6716170836683536\n"
     ]
    }
   ],
   "source": [
    "# Let's check waterfront again\n",
    "print( 'values in waterfront : ', df['waterfront'].unique() )\n",
    "print(  '% of NaN in waterfront : ', 100*(len(df) - np.sum(df['waterfront'].value_counts()))  / len(df) )\n",
    "print( '% of 0 in waterfront : ', 100*(np.sum(df['waterfront'].value_counts()[0]))  / len(df) )\n",
    "print( '% of 1 in waterfront : ',100*(np.sum(df['waterfront'].value_counts()[1]))  / len(df) )"
   ]
  },
  {
   "cell_type": "code",
   "execution_count": 22,
   "metadata": {},
   "outputs": [
    {
     "name": "stdout",
     "output_type": "stream",
     "text": [
      "values in view :  [ 0. nan  3.  4.  2.  1.]\n"
     ]
    }
   ],
   "source": [
    "# Let's check view\n",
    "print( 'values in view : ', df['view'].unique() )\n"
   ]
  },
  {
   "cell_type": "code",
   "execution_count": 23,
   "metadata": {},
   "outputs": [],
   "source": [
    "# 'view' is supposed to mean whether the data has been viewed. \n",
    "# This does not make sense to me  as the data stops in 2015 \n",
    "# So we drop this feature 'view'"
   ]
  },
  {
   "cell_type": "code",
   "execution_count": 24,
   "metadata": {},
   "outputs": [
    {
     "data": {
      "text/plain": [
       "2015"
      ]
     },
     "execution_count": 24,
     "metadata": {},
     "output_type": "execute_result"
    }
   ],
   "source": [
    "# check most recent year for house sold:\n",
    "df['date'].max()"
   ]
  },
  {
   "cell_type": "code",
   "execution_count": 25,
   "metadata": {},
   "outputs": [],
   "source": [
    "# drop column 'view'\n",
    "df.drop('view',axis =1, inplace = True)"
   ]
  },
  {
   "cell_type": "code",
   "execution_count": 26,
   "metadata": {},
   "outputs": [
    {
     "data": {
      "text/plain": [
       "(21143, 20)"
      ]
     },
     "execution_count": 26,
     "metadata": {},
     "output_type": "execute_result"
    }
   ],
   "source": [
    "# check # of columns was reduced to 20\n",
    "df.shape"
   ]
  },
  {
   "cell_type": "code",
   "execution_count": 27,
   "metadata": {},
   "outputs": [
    {
     "name": "stdout",
     "output_type": "stream",
     "text": [
      "values in yr_renovated :  [   0. 1991.   nan 2002. 2010. 1992. 2013. 1994. 1978. 2005. 2003. 1984.\n",
      " 1954. 2014. 2011. 1983. 1945. 1990. 1988. 1977. 1981. 1995. 2000. 1999.\n",
      " 1998. 1970. 1989. 2004. 1986. 2007. 1987. 2006. 1985. 1980. 1971. 1979.\n",
      " 1997. 1950. 1969. 1948. 2009. 2015. 1974. 2008. 1968. 2012. 1963. 1951.\n",
      " 1962. 2001. 1953. 1993. 1996. 1955. 1982. 1956. 1940. 1976. 1975. 1964.\n",
      " 1973. 1957. 1959. 1960. 1967. 1965. 1934. 1972. 1944. 1958.]\n",
      "occurences for each distinct value in yr_renovated :  0.0       16666\n",
      "2014.0       69\n",
      "2003.0       31\n",
      "2013.0       31\n",
      "2007.0       30\n",
      "          ...  \n",
      "1953.0        1\n",
      "1944.0        1\n",
      "1934.0        1\n",
      "1971.0        1\n",
      "1959.0        1\n",
      "Name: yr_renovated, Length: 69, dtype: int64\n",
      "% of 0 in yr_renovated:  78.82514307335761\n",
      "% of NaN in yr_renovated:  17.755285437260557\n"
     ]
    }
   ],
   "source": [
    "# check yr_renovated\n",
    "# print all distinct values\n",
    "print( 'values in yr_renovated : ', df['yr_renovated'].unique() )\n",
    "print(  'occurences for each distinct value in yr_renovated : ', df['yr_renovated'].value_counts() )\n",
    "print(  '% of 0 in yr_renovated: ' , 100* np.sum(df['yr_renovated'].value_counts()[0]) / len(df) )\n",
    "print(  '% of NaN in yr_renovated: ' , 100* (len(df)  - np.sum(df['yr_renovated'].value_counts()) ) / len(df) )"
   ]
  },
  {
   "cell_type": "code",
   "execution_count": 28,
   "metadata": {},
   "outputs": [],
   "source": [
    "# As there is a majority of yr_renovated = 0 (79%) and 18% of the values are NaN, \n",
    "# we will replace NaN by the mode: 0\n",
    "df['yr_renovated'].fillna(value =0,inplace = True)"
   ]
  },
  {
   "cell_type": "code",
   "execution_count": 29,
   "metadata": {},
   "outputs": [
    {
     "name": "stdout",
     "output_type": "stream",
     "text": [
      "values in yr_renovated :  [   0. 1991. 2002. 2010. 1992. 2013. 1994. 1978. 2005. 2003. 1984. 1954.\n",
      " 2014. 2011. 1983. 1945. 1990. 1988. 1977. 1981. 1995. 2000. 1999. 1998.\n",
      " 1970. 1989. 2004. 1986. 2007. 1987. 2006. 1985. 1980. 1971. 1979. 1997.\n",
      " 1950. 1969. 1948. 2009. 2015. 1974. 2008. 1968. 2012. 1963. 1951. 1962.\n",
      " 2001. 1953. 1993. 1996. 1955. 1982. 1956. 1940. 1976. 1975. 1964. 1973.\n",
      " 1957. 1959. 1960. 1967. 1965. 1934. 1972. 1944. 1958.]\n",
      "% of 0 in yr_renovated:  96.58042851061818\n",
      "% of NaN in yr_renovated:  0.0\n"
     ]
    }
   ],
   "source": [
    "# check \n",
    "print( 'values in yr_renovated : ', df['yr_renovated'].unique() )\n",
    "\n",
    "print(  '% of 0 in yr_renovated: ' , 100* np.sum(df['yr_renovated'].value_counts()[0]) / len(df) )\n",
    "print(  '% of NaN in yr_renovated: ' , 100* (len(df)  - np.sum(df['yr_renovated'].value_counts()) ) / len(df) )"
   ]
  },
  {
   "cell_type": "code",
   "execution_count": 30,
   "metadata": {},
   "outputs": [],
   "source": [
    "# for yr_renovated, 0 doesn't make sense.\n",
    "# We will replace 0 by the year the house was built. \n",
    "# This will enable yr_renovated to be used as a predictor\n",
    "df['yr_renovated'] = df[['yr_renovated','yr_built']].max(axis=1)"
   ]
  },
  {
   "cell_type": "code",
   "execution_count": 31,
   "metadata": {},
   "outputs": [
    {
     "data": {
      "text/plain": [
       "2014.0    611\n",
       "2005.0    464\n",
       "2006.0    463\n",
       "2003.0    446\n",
       "2004.0    443\n",
       "         ... \n",
       "1901.0     27\n",
       "1902.0     26\n",
       "1933.0     24\n",
       "1935.0     19\n",
       "1934.0     15\n",
       "Name: yr_renovated, Length: 116, dtype: int64"
      ]
     },
     "execution_count": 31,
     "metadata": {},
     "output_type": "execute_result"
    }
   ],
   "source": [
    "# check\n",
    "df['yr_renovated'].value_counts()"
   ]
  },
  {
   "cell_type": "markdown",
   "metadata": {},
   "source": [
    "### We created inadvertently a heavy correlation between yr_correlated and yr_built. \n",
    "### We will only keep the predictor that has the highest correlation to price.\n",
    "### Check correlation:"
   ]
  },
  {
   "cell_type": "code",
   "execution_count": 33,
   "metadata": {},
   "outputs": [
    {
     "data": {
      "text/html": [
       "<div>\n",
       "<style scoped>\n",
       "    .dataframe tbody tr th:only-of-type {\n",
       "        vertical-align: middle;\n",
       "    }\n",
       "\n",
       "    .dataframe tbody tr th {\n",
       "        vertical-align: top;\n",
       "    }\n",
       "\n",
       "    .dataframe thead th {\n",
       "        text-align: right;\n",
       "    }\n",
       "</style>\n",
       "<table border=\"1\" class=\"dataframe\">\n",
       "  <thead>\n",
       "    <tr style=\"text-align: right;\">\n",
       "      <th></th>\n",
       "      <th>yr_renovated</th>\n",
       "      <th>yr_built</th>\n",
       "      <th>price</th>\n",
       "    </tr>\n",
       "  </thead>\n",
       "  <tbody>\n",
       "    <tr>\n",
       "      <th>yr_renovated</th>\n",
       "      <td>1.000000</td>\n",
       "      <td>0.927086</td>\n",
       "      <td>0.097086</td>\n",
       "    </tr>\n",
       "    <tr>\n",
       "      <th>yr_built</th>\n",
       "      <td>0.927086</td>\n",
       "      <td>1.000000</td>\n",
       "      <td>0.054459</td>\n",
       "    </tr>\n",
       "    <tr>\n",
       "      <th>price</th>\n",
       "      <td>0.097086</td>\n",
       "      <td>0.054459</td>\n",
       "      <td>1.000000</td>\n",
       "    </tr>\n",
       "  </tbody>\n",
       "</table>\n",
       "</div>"
      ],
      "text/plain": [
       "              yr_renovated  yr_built     price\n",
       "yr_renovated      1.000000  0.927086  0.097086\n",
       "yr_built          0.927086  1.000000  0.054459\n",
       "price             0.097086  0.054459  1.000000"
      ]
     },
     "execution_count": 33,
     "metadata": {},
     "output_type": "execute_result"
    }
   ],
   "source": [
    "df_check = df[['yr_renovated','yr_built','price']]\n",
    "df_check.corr()"
   ]
  },
  {
   "cell_type": "markdown",
   "metadata": {},
   "source": [
    "### The correlation of price with yr_renovated is much bigger (9.7%) as the correlation between price and yr_built (5.4%). Therefore we keep only yr_renovated and remove yr_built.\n",
    "### Note: the absolute values of these correlations are quite small. So this feature may end up being discarded later in the process anyway "
   ]
  },
  {
   "cell_type": "code",
   "execution_count": 34,
   "metadata": {},
   "outputs": [],
   "source": [
    "# remove yr_built column\n",
    "df=df.drop('yr_built',axis = 1)"
   ]
  },
  {
   "cell_type": "code",
   "execution_count": 36,
   "metadata": {},
   "outputs": [
    {
     "name": "stdout",
     "output_type": "stream",
     "text": [
      "<class 'pandas.core.frame.DataFrame'>\n",
      "Int64Index: 21143 entries, 0 to 21596\n",
      "Data columns (total 19 columns):\n",
      "id               21143 non-null int64\n",
      "date             21143 non-null int32\n",
      "price            21143 non-null float64\n",
      "bedrooms         21143 non-null int64\n",
      "bathrooms        21143 non-null float64\n",
      "sqft_living      21143 non-null int64\n",
      "sqft_lot         21143 non-null int64\n",
      "floors           21143 non-null float64\n",
      "waterfront       21143 non-null float64\n",
      "condition        21143 non-null int64\n",
      "grade            21143 non-null int64\n",
      "sqft_above       21143 non-null int64\n",
      "sqft_basement    21143 non-null float64\n",
      "yr_renovated     21143 non-null float64\n",
      "zipcode          21143 non-null int64\n",
      "lat              21143 non-null float64\n",
      "long             21143 non-null float64\n",
      "sqft_living15    21143 non-null int64\n",
      "sqft_lot15       21143 non-null int64\n",
      "dtypes: float64(8), int32(1), int64(10)\n",
      "memory usage: 3.8 MB\n"
     ]
    }
   ],
   "source": [
    "# check we don't have any NaN values left\n",
    "df.info()"
   ]
  },
  {
   "cell_type": "markdown",
   "metadata": {},
   "source": [
    "# 2. Detect and Address Outliers"
   ]
  },
  {
   "cell_type": "code",
   "execution_count": 37,
   "metadata": {},
   "outputs": [
    {
     "data": {
      "image/png": "[encoded data removed]",
      "text/plain": [
       "<Figure size 576x504 with 1 Axes>"
      ]
     },
     "metadata": {
      "needs_background": "light"
     },
     "output_type": "display_data"
    }
   ],
   "source": [
    "# detect ouliers using InterQuartile Range (IQR) \n",
    "dico={}\n",
    "for col in df.columns:\n",
    "    if df[col].quantile(.75) - df[col].quantile(.25)  != 0:\n",
    "#         For features with IQR > 0, calculate the distance of the biggest outlier to the median \n",
    "        maxi=max(df[col].max() - df[col].median() ,  df[col].median() -df[col].min() )\n",
    "#     divide by IQR \n",
    "        dico[col] = maxi  /  (df[col].quantile(.75) - df[col].quantile(.25))\n",
    "# visualization of the ratio with a bar plot\n",
    "plt.figure(figsize = (8,7))\n",
    "plt.barh( list(dico.keys()) ,list(dico.values())  )\n",
    "plt.xlabel('ratio of |biggest oulier - median| over IQR ')\n",
    "plt.ylabel('features')\n",
    "plt.title('Outlier detection: ratio of |biggest oultier - median| over Interquartile Range')\n",
    "plt.show();"
   ]
  },
  {
   "cell_type": "markdown",
   "metadata": {},
   "source": [
    "#### sqft_lot and sqft_lot15 have the \"biggest\" outliers. Let's check them first:"
   ]
  },
  {
   "cell_type": "code",
   "execution_count": 39,
   "metadata": {},
   "outputs": [
    {
     "data": {
      "image/png": "[encoded data removed]",
      "text/plain": [
       "<Figure size 1008x360 with 1 Axes>"
      ]
     },
     "metadata": {
      "needs_background": "light"
     },
     "output_type": "display_data"
    },
    {
     "data": {
      "image/png": "[encoded data removed]",
      "text/plain": [
       "<Figure size 1008x288 with 1 Axes>"
      ]
     },
     "metadata": {
      "needs_background": "light"
     },
     "output_type": "display_data"
    },
    {
     "data": {
      "image/png": "[encoded data removed]",
      "text/plain": [
       "<Figure size 1008x360 with 1 Axes>"
      ]
     },
     "metadata": {
      "needs_background": "light"
     },
     "output_type": "display_data"
    },
    {
     "data": {
      "image/png": "[encoded data removed]",
      "text/plain": [
       "<Figure size 1008x288 with 1 Axes>"
      ]
     },
     "metadata": {
      "needs_background": "light"
     },
     "output_type": "display_data"
    }
   ],
   "source": [
    "# Visualization of sqft_lot and sqft_lot15 vs the target variable price\n",
    "df_plot = df[['price','sqft_lot','sqft_lot15']]\n",
    "\n",
    "for feat in ['sqft_lot','sqft_lot15']:\n",
    "    plt.figure(figsize=(14,5))\n",
    "    sns.scatterplot(x=feat, y='price',data=df_plot,alpha=0.5,label = feat)\n",
    "    plt.axvline(x=df_plot[feat].median(), label = 'x = median')\n",
    "    IQR = df[feat].quantile(.75) - df[feat].quantile(.25)\n",
    "    plt.axvline(x=df_plot[feat].median() + 30*IQR, label = 'x = median+30*IQR',color = 'r')\n",
    "    plt.title('scatter plot price vs. {}'.format(feat))\n",
    "    plt.legend()\n",
    "    plt.show();  \n",
    "    plt.figure(figsize=(14,4))\n",
    "    plt.hist(df[feat],bins=40)\n",
    "    plt.title('histogram of {}'.format(feat))\n",
    "    plt.xlabel(feat)\n",
    "    plt.ylabel('number of occurences')\n",
    "    plt.show();"
   ]
  },
  {
   "cell_type": "code",
   "execution_count": 40,
   "metadata": {},
   "outputs": [
    {
     "data": {
      "text/html": [
       "<div>\n",
       "<style scoped>\n",
       "    .dataframe tbody tr th:only-of-type {\n",
       "        vertical-align: middle;\n",
       "    }\n",
       "\n",
       "    .dataframe tbody tr th {\n",
       "        vertical-align: top;\n",
       "    }\n",
       "\n",
       "    .dataframe thead th {\n",
       "        text-align: right;\n",
       "    }\n",
       "</style>\n",
       "<table border=\"1\" class=\"dataframe\">\n",
       "  <thead>\n",
       "    <tr style=\"text-align: right;\">\n",
       "      <th></th>\n",
       "      <th>price</th>\n",
       "      <th>sqft_lot</th>\n",
       "      <th>sqft_lot15</th>\n",
       "    </tr>\n",
       "  </thead>\n",
       "  <tbody>\n",
       "    <tr>\n",
       "      <th>price</th>\n",
       "      <td>1.000000</td>\n",
       "      <td>0.087937</td>\n",
       "      <td>0.083192</td>\n",
       "    </tr>\n",
       "    <tr>\n",
       "      <th>sqft_lot</th>\n",
       "      <td>0.087937</td>\n",
       "      <td>1.000000</td>\n",
       "      <td>0.720649</td>\n",
       "    </tr>\n",
       "    <tr>\n",
       "      <th>sqft_lot15</th>\n",
       "      <td>0.083192</td>\n",
       "      <td>0.720649</td>\n",
       "      <td>1.000000</td>\n",
       "    </tr>\n",
       "  </tbody>\n",
       "</table>\n",
       "</div>"
      ],
      "text/plain": [
       "               price  sqft_lot  sqft_lot15\n",
       "price       1.000000  0.087937    0.083192\n",
       "sqft_lot    0.087937  1.000000    0.720649\n",
       "sqft_lot15  0.083192  0.720649    1.000000"
      ]
     },
     "execution_count": 40,
     "metadata": {},
     "output_type": "execute_result"
    }
   ],
   "source": [
    "df_plot.corr()"
   ]
  },
  {
   "cell_type": "markdown",
   "metadata": {},
   "source": [
    "## Conclusion for features sqft_lot and sqft_lot15\n",
    "#### Very strong correlation between sqft_lot and sqft_lot15. ~72%\n",
    "#### Very small correlation between sqft_lot(15) and target variable price\n",
    "#### No linear relationship between sqft_lot(15) and target variable price\n",
    "#### There are indeed outliers but it is of secondary timportance compared to the observations above.\n",
    "#### We will not use sqft_lot or sqft_lot15 for predicting price."
   ]
  },
  {
   "cell_type": "code",
   "execution_count": 41,
   "metadata": {},
   "outputs": [],
   "source": [
    "# remove sqft_lot and sqft_lot15 \n",
    "df = df.drop(['sqft_lot','sqft_lot15'],axis = 1)"
   ]
  },
  {
   "cell_type": "code",
   "execution_count": 44,
   "metadata": {},
   "outputs": [
    {
     "data": {
      "text/plain": [
       "Index(['id', 'date', 'price', 'bedrooms', 'bathrooms', 'sqft_living', 'floors',\n",
       "       'waterfront', 'condition', 'grade', 'sqft_above', 'sqft_basement',\n",
       "       'yr_renovated', 'zipcode', 'lat', 'long', 'sqft_living15'],\n",
       "      dtype='object')"
      ]
     },
     "execution_count": 44,
     "metadata": {},
     "output_type": "execute_result"
    }
   ],
   "source": [
    "# check\n",
    "df.columns"
   ]
  },
  {
   "cell_type": "code",
   "execution_count": null,
   "metadata": {},
   "outputs": [],
   "source": []
  },
  {
   "cell_type": "code",
   "execution_count": null,
   "metadata": {},
   "outputs": [],
   "source": []
  },
  {
   "cell_type": "code",
   "execution_count": null,
   "metadata": {},
   "outputs": [],
   "source": []
  },
  {
   "cell_type": "markdown",
   "metadata": {},
   "source": [
    "## Looking for categorical data"
   ]
  },
  {
   "cell_type": "code",
   "execution_count": null,
   "metadata": {},
   "outputs": [],
   "source": [
    "# scatterplot of price vs. each variable\n",
    "\n",
    "%matplotlib inline\n",
    "\n",
    "# list of 15 predictors (x)\n",
    "listx = list(df.columns.drop('price').drop('date'))\n",
    "print('number of predictors: ', len(listx))\n",
    "print('predictors: ',listx)\n",
    "\n",
    "for elem in listx:\n",
    "    df.plot(kind = 'scatter', x = elem, y = 'price',\n",
    "            alpha=0.4, color= 'b')\n",
    "    plt.show();\n",
    "    \n"
   ]
  },
  {
   "cell_type": "markdown",
   "metadata": {},
   "source": [
    "## Intermediary conclusion:  \n",
    "id and zipcode seem to be the only truly categorical variables.  \n",
    "But we also have discrete variables (condition, numbers of rooms...)  \n",
    "id is an identifier, we can drop it.  \n",
    "We'll drop zipcode for now.  "
   ]
  },
  {
   "cell_type": "code",
   "execution_count": null,
   "metadata": {},
   "outputs": [],
   "source": [
    "# let's also drop date for now \n",
    "df= df.drop(['id','date','zipcode'],axis = 1)"
   ]
  },
  {
   "cell_type": "code",
   "execution_count": null,
   "metadata": {},
   "outputs": [],
   "source": [
    "# check\n",
    "df"
   ]
  },
  {
   "cell_type": "markdown",
   "metadata": {},
   "source": [
    "## Train - Test Split"
   ]
  },
  {
   "cell_type": "code",
   "execution_count": null,
   "metadata": {},
   "outputs": [],
   "source": [
    "X= df.drop(['price'],axis=1)\n",
    "y=df['price']\n",
    "\n",
    "linreg = LinearRegression()\n",
    "# Split the data randomly into training and test sets. \n",
    "X_train,X_test,y_train,y_test = train_test_split(X,y,test_size=.2)\n",
    "\n",
    "# check sizes\n",
    "print( [ t.shape[:] for t in [X_train,X_test,y_train,y_test]])\n",
    "print( X_test.shape[0]/( X_train.shape[0]+X_test.shape[0] ) )"
   ]
  },
  {
   "cell_type": "markdown",
   "metadata": {},
   "source": [
    "## Multiple linear regression"
   ]
  },
  {
   "cell_type": "code",
   "execution_count": null,
   "metadata": {},
   "outputs": [],
   "source": [
    "\n",
    "X_train_int = sm.add_constant(X_train)  # contains all predictors and a constant column =1 for intercept\n",
    "model = sm.OLS(y_train,X_train_int).fit() # y_train is a one column dataframe containing the dependent variable\n",
    "model.summary()"
   ]
  },
  {
   "cell_type": "markdown",
   "metadata": {},
   "source": [
    "## Fast track QC \n"
   ]
  },
  {
   "cell_type": "code",
   "execution_count": null,
   "metadata": {},
   "outputs": [],
   "source": [
    "# prediction for test  and training set:\n",
    "X_test_int = sm.add_constant(X_test) # adds a constant column =1 for intercept (similar to X_train_int)\n",
    "y_hat_test = model.predict(X_test_int)\n",
    "y_hat_train = model.predict(X_train_int)"
   ]
  },
  {
   "cell_type": "code",
   "execution_count": null,
   "metadata": {},
   "outputs": [],
   "source": [
    "# visualization of residuals\n",
    "\n",
    "# conversion of results for training set into a dataframe\n",
    "y_train_df = pd.DataFrame(y_train)\n",
    "y_hat_train_df = pd.DataFrame(y_hat_train)\n",
    "y_train_df=pd.concat([y_train_df,y_hat_train_df],axis=1)\n",
    "y_train_df.columns = ['actual_price','predicted_price']\n",
    "y_train_df['flag']='training set'\n",
    "\n",
    "# conversion of results for test set into a dataframe\n",
    "y_test_df = pd.DataFrame(y_test)\n",
    "y_hat_test_df = pd.DataFrame(y_hat_test)\n",
    "y_test_df=pd.concat([y_test_df,y_hat_test_df],axis=1)\n",
    "y_test_df.columns = ['actual_price','predicted_price']\n",
    "y_test_df['flag']='testing set'\n",
    "\n",
    "# putting together the training and test sets\n",
    "y_plot = pd.concat ([y_train_df,y_test_df],axis = 0)\n",
    "\n",
    "# scatter plot of training and test sets' predictions vs. actuals + line y=x for reference\n",
    "plt.figure(figsize=(16,10))\n",
    "sns.scatterplot(x='actual_price', y='predicted_price',hue ='flag',data=y_plot )\n",
    "plt.plot([0,4000000],[0,4000000])\n",
    "plt.show();"
   ]
  },
  {
   "cell_type": "code",
   "execution_count": null,
   "metadata": {},
   "outputs": [],
   "source": [
    "res_test=y_hat_test-y_test\n",
    "res_train=y_hat_train-y_train"
   ]
  },
  {
   "cell_type": "code",
   "execution_count": null,
   "metadata": {},
   "outputs": [],
   "source": [
    "plt.figure(figsize=(16,6))\n",
    "sns.distplot( res_test )\n",
    "sns.distplot( res_train )\n",
    "plt.show();"
   ]
  },
  {
   "cell_type": "code",
   "execution_count": null,
   "metadata": {},
   "outputs": [],
   "source": [
    "\n",
    "# Calculate mean square errors\n",
    "train_mse = mean_squared_error(y_train,y_hat_train)\n",
    "test_mse = mean_squared_error(y_test,y_hat_test) \n",
    "print ('train_mse :',train_mse)\n",
    "print ('test_mse :',test_mse)\n",
    "print ('difference (in %):  ', 100*(abs(train_mse-test_mse)) / train_mse)"
   ]
  },
  {
   "cell_type": "markdown",
   "metadata": {},
   "source": [
    "## Fast Track Conclusions\n",
    "R squared = 66%. The linear model explains 66% of the variations in the house price.\n",
    "The model tends to under predict (predicted value < actual value), especially on the high end of the price range\n",
    "Training and test performances seem close based on visualization, but Mean Square Error (MSE) for test is 22% higher than for the training set. \n",
    "Presence of outliers is evidenced by the prediction errors visualization. They are likely to be responsible for a good part of the inaccuracy of the model. Needs to be addressed in forthcoming work.\n",
    "  \n",
    "## Notes for work beyond Fast Track\n",
    "Address the issue due to the presence of outliers  \n",
    "Address the issue of missing values  \n",
    "Address categorical data  \n",
    "Address potential collinearity between features  \n",
    "Features selection  \n",
    "Features transformation and scaling   \n",
    "K fold cross validation?\n"
   ]
  },
  {
   "cell_type": "code",
   "execution_count": null,
   "metadata": {},
   "outputs": [],
   "source": []
  }
 ],
 "metadata": {
  "kernelspec": {
   "display_name": "Python 3",
   "language": "python",
   "name": "python3"
  },
  "language_info": {
   "codemirror_mode": {
    "name": "ipython",
    "version": 3
   },
   "file_extension": ".py",
   "mimetype": "text/x-python",
   "name": "python",
   "nbconvert_exporter": "python",
   "pygments_lexer": "ipython3",
   "version": "3.6.9"
  }
 },
 "nbformat": 4,
 "nbformat_minor": 2
}
